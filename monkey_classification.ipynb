{
 "cells": [
  {
   "cell_type": "code",
   "execution_count": null,
   "metadata": {},
   "outputs": [],
   "source": [
    "# settings (for iLect)\n",
    "# !apt-get update\n",
    "!apt-get install unzip\n",
    "\n",
    "%cd ~/userspace\n",
    "![ -d dl-project ] || git clone https://github.com/kuniga/dl-project.git\n",
    "%cd dl-project\n",
    "!git pull\n",
    "\n",
    "!pip install kaggle\n",
    "![ -d dataset ] || mkdir dataset\n",
    "%cd dataset\n",
    "![ -e 10-monkey-species.zip ] || env KAGGLE_USERNAME=kuniga KAGGLE_KEY=**** kaggle datasets download -d slothkong/10-monkey-species\n",
    "%cd .."
   ]
  },
  {
   "cell_type": "code",
   "execution_count": null,
   "metadata": {},
   "outputs": [],
   "source": [
    "!python monkey_classification.py\n",
    "!python monkey_classification_inception_v3.py\n",
    "!python monkey_classification_xception.py\n",
    "!env WEBHOOK_URL=\"https://hooks.slack.com/services/****\" SLACK_USER_ID=\"****\" python post_to_slack.py"
   ]
  },
  {
   "cell_type": "code",
   "execution_count": null,
   "metadata": {},
   "outputs": [],
   "source": []
  }
 ],
 "metadata": {
  "kernelspec": {
   "display_name": "Python 3",
   "language": "python",
   "name": "python3"
  },
  "language_info": {
   "codemirror_mode": {
    "name": "ipython",
    "version": 3
   },
   "file_extension": ".py",
   "mimetype": "text/x-python",
   "name": "python",
   "nbconvert_exporter": "python",
   "pygments_lexer": "ipython3",
   "version": "3.5.2"
  }
 },
 "nbformat": 4,
 "nbformat_minor": 2
}
